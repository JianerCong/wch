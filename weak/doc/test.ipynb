{
 "cells": [
  {
   "cell_type": "code",
   "execution_count": 4,
   "id": "45fa3310",
   "metadata": {},
   "outputs": [],
   "source": [
    "s = \"\"\"\n",
    "def g(x,y):\n",
    "    return x + y\n",
    "\n",
    "def f(x,y):\n",
    "    return x + y\n",
    "    \"\"\"\n"
   ]
  },
  {
   "cell_type": "code",
   "execution_count": null,
   "id": "0e01b45d",
   "metadata": {},
   "outputs": [],
   "source": [
    "import s"
   ]
  },
  {
   "cell_type": "code",
   "execution_count": 28,
   "id": "e09910eb",
   "metadata": {},
   "outputs": [
    {
     "data": {
      "text/plain": [
       "ast.FunctionDef"
      ]
     },
     "execution_count": 28,
     "metadata": {},
     "output_type": "execute_result"
    }
   ],
   "source": [
    "t.body[0].__class__"
   ]
  },
  {
   "cell_type": "code",
   "execution_count": 32,
   "id": "d8419cb3",
   "metadata": {},
   "outputs": [],
   "source": [
    "class S:\n",
    "    HEADER = '\\033[95m'\n",
    "    BLUE = '\\033[94m'\n",
    "    CYAN = '\\033[96m'\n",
    "    GREEN = '\\033[92m'\n",
    "    MAG = '\\033[93m'\n",
    "    RED = '\\033[91m'\n",
    "    NOR = '\\033[0m'\n",
    "    BOLD = '\\033[1m'\n",
    "    UNDERLINE = '\\033[4m'\n",
    "\n",
    "def debug_node_str(node: ast.AST, l: list[str]):\n",
    "    \"\"\"\n",
    "    l : py_lines_for_debugging\n",
    "    \"\"\"\n",
    "    region = '\\n'.join(l[node.lineno-1:node.end_lineno])\n",
    "    rule = '--------------------------------------------------------'\n",
    "    return (f'{node.__class__} at line {node.lineno}, col {node.col_offset}').ljust(len(rule), '-') + '\\n' + \\\n",
    "        region + \\\n",
    "        '\\n' + rule + '\\n'\n"
   ]
  },
  {
   "cell_type": "code",
   "execution_count": 33,
   "id": "352924e9",
   "metadata": {},
   "outputs": [
    {
     "name": "stdout",
     "output_type": "stream",
     "text": [
      "<class 'ast.FunctionDef'> at line 2, col 0--------------\n",
      "def g(x,y):\n",
      "    return x + y\n",
      "--------------------------------------------------------\n",
      "\n"
     ]
    }
   ],
   "source": [
    "t = ast.parse(s)\n",
    "lines = s.splitlines()\n",
    "print(debug_node_str(t.body[0],lines))"
   ]
  }
 ],
 "metadata": {
  "kernelspec": {
   "display_name": "Python 3 (ipykernel)",
   "language": "python",
   "name": "python3"
  },
  "language_info": {
   "codemirror_mode": {
    "name": "ipython",
    "version": 3
   },
   "file_extension": ".py",
   "mimetype": "text/x-python",
   "name": "python",
   "nbconvert_exporter": "python",
   "pygments_lexer": "ipython3",
   "version": "3.10.12"
  }
 },
 "nbformat": 4,
 "nbformat_minor": 5
}
