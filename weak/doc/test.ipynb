{
 "cells": [
  {
   "cell_type": "code",
   "execution_count": 2,
   "id": "8ef5cdc2",
   "metadata": {},
   "outputs": [
    {
     "name": "stdout",
     "output_type": "stream",
     "text": [
      "x=1, y=2\n"
     ]
    }
   ],
   "source": [
    "def hi(x,y):\n",
    "    print(f'x={x}, y={y}')\n",
    "\n",
    "args = {'x' : 1, 'y' : 2}\n",
    "hi(**args)\n",
    "\n",
    "\n",
    "args = {'x' : 1, 'y' : 2, 'z' : 'hi'}\n",
    "hi(**args)\n",
    "\n",
    "\n",
    "args = {'x' : 1}\n",
    "hi(**args)\n"
   ]
  }
 ],
 "metadata": {
  "kernelspec": {
   "display_name": "Python 3 (ipykernel)",
   "language": "python",
   "name": "python3"
  },
  "language_info": {
   "codemirror_mode": {
    "name": "ipython",
    "version": 3
   },
   "file_extension": ".py",
   "mimetype": "text/x-python",
   "name": "python",
   "nbconvert_exporter": "python",
   "pygments_lexer": "ipython3",
   "version": "3.10.12"
  }
 },
 "nbformat": 4,
 "nbformat_minor": 5
}
